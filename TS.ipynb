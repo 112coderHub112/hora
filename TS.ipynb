{
 "cells": [
  {
   "cell_type": "code",
   "execution_count": 91,
   "metadata": {},
   "outputs": [],
   "source": [
    "import math\n",
    "from datetime import date\n",
    "from datetime import datetime\n",
    "from datetime import timedelta\n",
    "import pandas as pd\n",
    "df = pd.DataFrame()\n",
    "\n",
    "def NYdate(jula_year):\n",
    "    ny = jula_year*0.25875-int(jula_year/4 +0.5)+int(jula_year/100 +0.38)-int(jula_year/400 +0.595)-5.53375\n",
    "    jultin =  ((jula_year*292207)+373)%800\n",
    "    hour,frac = divmod(jultin*24,800)\n",
    "    minute,frac = divmod(frac*60,800)\n",
    "    second,frac = divmod(frac*60,800)\n",
    "    christ_year = jula_year+638\n",
    "    dtny = datetime(christ_year, 4, int(ny), hour , minute, second)\n",
    "    return dtny;\n",
    "\n"
   ]
  },
  {
   "cell_type": "code",
   "execution_count": 92,
   "metadata": {},
   "outputs": [],
   "source": [
    "for jula_year in range(1299,1499):\n",
    "    dtny = NYdate(jula_year)\n",
    "    buddhist_year = jula_year+1181\n",
    "    temp = (jula_year*292207)+373\n",
    "    ahra = (temp//800)+1\n",
    "    jultin =  temp%800\n",
    "\n",
    "    kj = 800-jultin\n",
    "    temp,aw= divmod((ahra*11)+650,692)\n",
    "    masG,dT=divmod((ahra+temp),30)\n",
    "\n",
    "    au = (ahra-621)%3232\n",
    "    van = ahra%7\n",
    "\n",
    "    \n",
    "    df = df.append({'Jyear' : jula_year, \n",
    "                    'Byear' : buddhist_year,\n",
    "                    'dtny' : dtny,\n",
    "                    'date': str(dtny.day)+'/'+str(dtny.month)+'/'+str(dtny.year+543),\n",
    "                    'time': str(dtny.hour)+':'+str(dtny.minute)+':'+str(dtny.second),\n",
    "                    'ahra' : ahra,          \n",
    "                    'jultin' : jultin,\n",
    "                    'kj' : kj,\n",
    "                    'aw' : aw,\n",
    "                    'dT' : dT,\n",
    "                    'au' : au,\n",
    "                    'van' : van                 \n",
    "                   } , ignore_index=True)\n",
    "\n",
    "\n",
    "\n",
    "exp = df[['date','time','Jyear','ahra','jultin','kj','aw','dT','au','van']]\n",
    "exp.to_csv(r\"C:\\Users\\JACK\\Desktop\\out.csv\")"
   ]
  },
  {
   "cell_type": "code",
   "execution_count": 82,
   "metadata": {},
   "outputs": [
    {
     "data": {
      "text/plain": [
       "Byear                    2529\n",
       "Jyear                    1348\n",
       "ahra                   492370\n",
       "au                        485\n",
       "aw                        436\n",
       "dT                          7\n",
       "date                16/4/2529\n",
       "dtny      1986-04-16 06:16:12\n",
       "jultin                    209\n",
       "kj                        591\n",
       "time                  6:16:12\n",
       "van                         4\n",
       "Name: 49, dtype: object"
      ]
     },
     "execution_count": 82,
     "metadata": {},
     "output_type": "execute_result"
    }
   ],
   "source": [
    "# df1 = df.loc[df.Jyear ==1348]\n",
    "# #df1\n",
    "# df1.iloc[0]['au']\n",
    "\n",
    "#df"
   ]
  }
 ],
 "metadata": {
  "kernelspec": {
   "display_name": "Python 3",
   "language": "python",
   "name": "python3"
  },
  "language_info": {
   "codemirror_mode": {
    "name": "ipython",
    "version": 3
   },
   "file_extension": ".py",
   "mimetype": "text/x-python",
   "name": "python",
   "nbconvert_exporter": "python",
   "pygments_lexer": "ipython3",
   "version": "3.7.6"
  }
 },
 "nbformat": 4,
 "nbformat_minor": 2
}
