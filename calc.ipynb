{
 "cells": [
  {
   "cell_type": "code",
   "execution_count": 1,
   "metadata": {},
   "outputs": [],
   "source": [
    "import math\n",
    "from datetime import date\n",
    "from datetime import datetime\n",
    "from datetime import timedelta\n",
    "\n",
    "#day,month,year,hour,minute = 30,3,2550,8,55\n",
    "day,month,year,hour,minute = 27,1,2527,9,49\n",
    "#day,month,year,hour,minute = 18,4,2512,9,38\n",
    "christ_year = year-543\n",
    "jula_year = year-1181\n",
    "offset = timedelta(minutes=18)\n",
    "dt= datetime(christ_year,month,day,hour,minute)-offset\n",
    "dtf= datetime(dt.year,dt.month,dt.day,0,0)\n",
    "d = date(dt.year,dt.month,dt.day)\n",
    "\n",
    "def NYdate(jula_year):\n",
    "    ny = jula_year*0.25875-int(jula_year/4 +0.5)+int(jula_year/100 +0.38)-int(jula_year/400 +0.595)-5.53375\n",
    "    jultin =  ((jula_year*292207)+373)%800\n",
    "    hour,frac = divmod(jultin*24,800)\n",
    "    minute,frac = divmod(frac*60,800)\n",
    "    second,frac = divmod(frac*60,800)\n",
    "    christ_year = jula_year+638\n",
    "    dtny = datetime(christ_year, 4, int(ny), hour , minute, second)\n",
    "    return dtny;\n",
    "\n"
   ]
  },
  {
   "cell_type": "code",
   "execution_count": 2,
   "metadata": {},
   "outputs": [
    {
     "name": "stdout",
     "output_type": "stream",
     "text": [
      "datetimeSpeculate= 1984-01-27 09:31:00\n",
      "datetime_ny = 1983-04-16 11:38:24\n",
      "jula_year = 1346\n",
      "jula_newyear = 1345\n"
     ]
    }
   ],
   "source": [
    "dtny = NYdate(jula_year)\n",
    "dny = date(dtny.year,dtny.month,dtny.day)\n",
    "    \n",
    "if (dt>=dtny):\n",
    "    jula_newyear = jula_year\n",
    "elif (dt<dtny):\n",
    "    jula_newyear = jula_year-1\n",
    "    dtny = NYdate(jula_newyear)\n",
    "    dny = date(dtny.year,dtny.month,dtny.day)\n",
    "\n",
    "print('datetimeSpeculate=',dt)\n",
    "print('datetime_ny =',dtny)\n",
    "print('jula_year =',jula_year)\n",
    "print('jula_newyear =',jula_newyear)\n"
   ]
  },
  {
   "cell_type": "code",
   "execution_count": 3,
   "metadata": {},
   "outputs": [],
   "source": [
    "temp = (jula_newyear*292207)+373\n",
    "ahra = (temp//800)+1\n",
    "jultin =  temp%800\n",
    "\n",
    "kj = 800-jultin\n",
    "temp,aw= divmod((ahra*11)+650,692)\n",
    "masG,dT=divmod((ahra+temp),30)\n",
    "\n",
    "au = (ahra-621)%3232\n",
    "van = ahra%7\n",
    "\n",
    "stin = (d-dny).days\n",
    "sec = (dt-dtf).seconds\n",
    "\n"
   ]
  },
  {
   "cell_type": "code",
   "execution_count": 4,
   "metadata": {},
   "outputs": [
    {
     "name": "stdout",
     "output_type": "stream",
     "text": [
      "ahra= 491274\n",
      "jultin= 388\n",
      "kj= 412\n",
      "aw= 144\n",
      "masG= 16636\n",
      "dT= 4\n",
      "au= 2621\n",
      "van= 0\n",
      "stin= 286\n",
      "sec= 34260\n"
     ]
    }
   ],
   "source": [
    "print('ahra=',ahra)\n",
    "print('jultin=',jultin)\n",
    "print('kj=',kj)\n",
    "print('aw=',aw)\n",
    "print('masG=',masG)\n",
    "print('dT=',dT)\n",
    "print('au=',au)\n",
    "print('van=',van)\n",
    "print('stin=',stin)\n",
    "print('sec=',sec)"
   ]
  },
  {
   "cell_type": "code",
   "execution_count": 5,
   "metadata": {},
   "outputs": [],
   "source": [
    "ahra_ = ahra+stin\n",
    "stkm = (stin-1)*800\n",
    "kj_ = kj + stkm + sec//108\n",
    "\n",
    "awjt = (stin-1)*703+aw\n",
    "aws = awjt+(sec*703)//86400\n",
    "awdT,aw_=divmod(aws,692)\n",
    "temp,dT_=divmod((awdT+dT),30)\n",
    "masG_ = masG+temp\n",
    "van_=ahra_%7\n",
    "\n",
    "if (au+stin > 3232):\n",
    "    au_ = au+stin-3232\n",
    "else: au_= au+stin\n",
    "\n",
    "\n"
   ]
  },
  {
   "cell_type": "code",
   "execution_count": 6,
   "metadata": {},
   "outputs": [
    {
     "name": "stdout",
     "output_type": "stream",
     "text": [
      "ahra_= 491560\n",
      "kj_= 228729\n",
      "aw_= 97\n",
      "dT_= 24\n",
      "masG_= 16645\n",
      "au_= 2907\n",
      "van_= 6\n"
     ]
    }
   ],
   "source": [
    "print('ahra_=',ahra_)\n",
    "print('kj_=',kj_)\n",
    "print('aw_=',aw_)\n",
    "print('dT_=',dT_)\n",
    "print('masG_=',masG_)\n",
    "print('au_=',au_)\n",
    "print('van_=',van_)"
   ]
  },
  {
   "cell_type": "code",
   "execution_count": null,
   "metadata": {},
   "outputs": [],
   "source": []
  },
  {
   "cell_type": "code",
   "execution_count": 7,
   "metadata": {},
   "outputs": [
    {
     "name": "stdout",
     "output_type": "stream",
     "text": [
      "hour= 11\n",
      "minute= 38\n",
      "second= 24\n",
      "r= 0\n"
     ]
    }
   ],
   "source": [
    "hour,r = divmod(jultin*24,800)\n",
    "minute,r = divmod(r*60,800)\n",
    "second,r = divmod(r*60,800)\n",
    "print('hour=',hour)\n",
    "print('minute=',minute)\n",
    "print('second=',second)\n",
    "print('r=',r)"
   ]
  },
  {
   "cell_type": "code",
   "execution_count": null,
   "metadata": {},
   "outputs": [],
   "source": []
  },
  {
   "cell_type": "code",
   "execution_count": null,
   "metadata": {},
   "outputs": [],
   "source": []
  },
  {
   "cell_type": "code",
   "execution_count": 8,
   "metadata": {},
   "outputs": [
    {
     "name": "stdout",
     "output_type": "stream",
     "text": [
      "mathasun = 16904\n",
      "pholsun = 12104\n",
      "pholGA = 1304\n",
      "khan = 1\n",
      "pushlip = 404\n",
      "ravipphol = 49\n",
      "Ssun = 16953\n",
      "zodiac = 9\n",
      "degree = 12\n",
      "minute = 33\n"
     ]
    }
   ],
   "source": [
    "sun_table = [[35,32,27,22,13,5],\n",
    "             [0,35,67,94,116,129]]\n",
    "\n",
    "\n",
    "z = kj_ // 24350\n",
    "z_remainder = kj_ % 24350\n",
    "degree = z_remainder//811\n",
    "d_remainder = z_remainder % 811\n",
    "minute = d_remainder//14\n",
    "\n",
    "d_total = z*30+degree\n",
    "mathasun = d_total*60+minute-3\n",
    "\n",
    "\n",
    "\n",
    "if mathasun >= 21600:\n",
    "    raise Exception('mathasun exceed or equal 21600')\n",
    "elif mathasun < 0:\n",
    "    raise Exception('mathasun below 0')\n",
    "elif mathasun < 4800:\n",
    "    pholsun = 21600+mathasun-4800\n",
    "else:\n",
    "    pholsun = mathasun-4800\n",
    "\n",
    "\n",
    "if pholsun >= 21600:\n",
    "    raise Exception('pholsun exceed or equal 21600')\n",
    "elif pholsun < 0:\n",
    "    raise Exception('pholsun below 0')\n",
    "elif pholsun >= 0 and pholsun <5400:\n",
    "    pholGA = pholsun\n",
    "\n",
    "elif pholsun >= 5400 and pholsun <10800:\n",
    "    pholGA = 10800-pholsun\n",
    "\n",
    "elif pholsun >= 10800 and pholsun <16200:\n",
    "    pholGA = pholsun-10800\n",
    "\n",
    "elif pholsun >= 16200:\n",
    "    pholGA = 21600-pholsun\n",
    "    \n",
    "\n",
    "khan = pholGA // 900\n",
    "pushlip = pholGA % 900\n",
    "\n",
    "\n",
    "jyaGA = (sun_table[0][khan]*pushlip) // 900\n",
    "ravipphol = sun_table[1][khan]+jyaGA\n",
    "\n",
    "\n",
    "if pholsun < 10800:\n",
    "    Ssun = mathasun-ravipphol\n",
    "elif pholsun > 10800:\n",
    "    Ssun= mathasun+ravipphol\n",
    "elif pholsun == 10800:\n",
    "    if(ravipphol != 0):raise Exception('pholsun=10800 but ravipphol not 0')\n",
    "    Ssun= mathasun\n",
    "\n",
    "if Ssun < 0:\n",
    "    Ssun = Ssun+21600\n",
    "elif Ssun > 21600:\n",
    "    Ssun= Ssun-21600\n",
    "\n",
    "zodiac,frac = divmod(Ssun,1800)\n",
    "degree,minute = divmod(frac,60)\n",
    "\n",
    "print('mathasun =',mathasun)\n",
    "print('pholsun =',pholsun)\n",
    "print('pholGA =',pholGA)\n",
    "print('khan =',khan)\n",
    "print('pushlip =',pushlip)\n",
    "print('ravipphol =',ravipphol)\n",
    "print('Ssun =',Ssun)\n",
    "print('zodiac =',zodiac)\n",
    "print('degree =',degree)\n",
    "print('minute =',minute)"
   ]
  },
  {
   "cell_type": "code",
   "execution_count": 23,
   "metadata": {},
   "outputs": [
    {
     "name": "stdout",
     "output_type": "stream",
     "text": [
      "zodiac= 0\n",
      "degree= 23\n",
      "minute= 52\n",
      "mtu= 4957\n",
      "mathamoon= 1170\n",
      "uv= 17813\n",
      "pholGA= 3787\n",
      "khan = 4\n",
      "pushlip = 187\n",
      "jyaGA = 6\n",
      "chandraphol = 262\n",
      "Smoon = 1432\n",
      "zodiac = 0\n",
      "degree = 23\n",
      "minute = 52\n"
     ]
    }
   ],
   "source": [
    "moon_table = [[77,71,61,47,30,10],\n",
    "             [0,77,148,209,256,296]]\n",
    "\n",
    "temp = (au_-1)*86400+sec\n",
    "\n",
    "#zodiac,frac = divmod(x,23270400)\n",
    "#degree,frac = divmod(frac,775680)\n",
    "#minute = frac // 12928\n",
    "\n",
    "zodiac = temp//23270400\n",
    "degree = (temp%23270400)//775680\n",
    "minute = ((temp%23270400)%775680)//12928\n",
    "d_total = zodiac*30+degree\n",
    "mtu = d_total*60+minute+2\n",
    "\n",
    "\n",
    "mathamoon = mathasun + aw_ +(aw_//25)+(dT_*720)-40\n",
    "if mathamoon >= 21600: \n",
    "    mathamoon = mathamoon-21600\n",
    "\n",
    "if mathamoon >= 21600:\n",
    "    raise Exception('mathamoon exceed or equal 21600')\n",
    "elif mathamoon < 0:\n",
    "    raise Exception('mathamoon below 0')\n",
    "elif mtu >= 21600:\n",
    "    raise Exception('mtu exceed or equal 21600')\n",
    "elif mtu < 0:\n",
    "    raise Exception('mtu below 0')\n",
    "elif mathamoon>=mtu:\n",
    "    uv =  mathamoon-mtu\n",
    "elif mathamoon<mtu:\n",
    "    uv = 21600+mathamoon-mtu\n",
    "    \n",
    "\n",
    "if uv >= 21600:\n",
    "    raise Exception('uv exceed or equal 21600')\n",
    "elif uv < 0:\n",
    "    raise Exception('uv below 0')\n",
    "elif uv >= 0 and uv <5400:\n",
    "    pholGA = uv\n",
    "elif uv >= 5400 and uv <10800:\n",
    "    pholGA = 10800-uv\n",
    "elif uv >= 10800 and uv <16200:\n",
    "    pholGA = uv-10800\n",
    "elif uv >= 16200:\n",
    "    pholGA = 21600-uv\n",
    "\n",
    "\n",
    "khan = pholGA // 900\n",
    "pushlip = pholGA % 900\n",
    "\n",
    "jyaGA = (moon_table[0][khan]*pushlip) // 900\n",
    "chandraphol = moon_table[1][khan]+jyaGA\n",
    "\n",
    "if uv < 10800:\n",
    "    Smoon = mathamoon-chandraphol\n",
    "elif uv > 10800:\n",
    "    Smoon= mathamoon+chandraphol\n",
    "elif uv == 10800:\n",
    "    if(chandraphol != 0):raise Exception('uv=10800 but chandraphol not 0')\n",
    "    Smoon= mathamoon\n",
    "\n",
    "if Smoon < 0:\n",
    "    Smoon = Smoon+21600\n",
    "elif Smoon > 21600:\n",
    "    Smoon= Smoon-21600\n",
    "\n",
    "zodiac,frac = divmod(Smoon,1800)\n",
    "degree,minute = divmod(frac,60)\n",
    "\n",
    "print('zodiac=',zodiac)\n",
    "print('degree=',degree)\n",
    "print('minute=',minute)\n",
    "print('mtu=',mtu)\n",
    "print('mathamoon=',mathamoon)\n",
    "print('uv=',uv)\n",
    "print('pholGA=',pholGA)\n",
    "print('khan =',khan)\n",
    "print('pushlip =',pushlip)\n",
    "print('jyaGA =',jyaGA)\n",
    "print('chandraphol =',chandraphol)\n",
    "print('Smoon =',Smoon)\n",
    "print('zodiac =',zodiac)\n",
    "print('degree =',degree)\n",
    "print('minute =',minute)\n",
    "\n",
    "\n"
   ]
  },
  {
   "cell_type": "code",
   "execution_count": null,
   "metadata": {},
   "outputs": [],
   "source": []
  },
  {
   "cell_type": "code",
   "execution_count": null,
   "metadata": {},
   "outputs": [],
   "source": []
  },
  {
   "cell_type": "code",
   "execution_count": null,
   "metadata": {},
   "outputs": [],
   "source": []
  },
  {
   "cell_type": "code",
   "execution_count": 28,
   "metadata": {},
   "outputs": [
    {
     "data": {
      "text/plain": [
       "42"
      ]
     },
     "execution_count": 28,
     "metadata": {},
     "output_type": "execute_result"
    }
   ],
   "source": [
    "import pandas as pd\n",
    "s_ravi = {\n",
    "    'jya': [35,32,27,22,13,5],\n",
    "    'ravi': [0,35,67,94,116,129]\n",
    "}\n",
    "#df = pd.DataFrame(s_ravi)\n",
    "df = pd.DataFrame(s_ravi)\n",
    "#df.iloc[1] = [kj,Ssun]\n",
    "#df.append(data)\n",
    "df = df.append({'kj' : 'Sahil' , 'sun' : 22} , ignore_index=True)\n",
    "df = df.append({'kj' : 'Sahil' , 'sun' : 22} , ignore_index=True)\n",
    "\n",
    "df = df.append({'kj' : 'Sahil' , 'sun' : 22 , 'datetime' : dt} , ignore_index=True)\n",
    "df = df.append({'kj' : 'Sahil' , 'sun' : 22 , 'datetime' : dtny} , ignore_index=True)\n",
    "\n",
    "\n",
    "#df.to_csv(r\"C:\\Users\\JACK\\Desktop\\out.csv\")\n"
   ]
  },
  {
   "cell_type": "code",
   "execution_count": null,
   "metadata": {},
   "outputs": [],
   "source": []
  },
  {
   "cell_type": "code",
   "execution_count": null,
   "metadata": {},
   "outputs": [],
   "source": [
    "\n"
   ]
  },
  {
   "cell_type": "code",
   "execution_count": null,
   "metadata": {},
   "outputs": [],
   "source": []
  },
  {
   "cell_type": "code",
   "execution_count": null,
   "metadata": {},
   "outputs": [],
   "source": []
  }
 ],
 "metadata": {
  "kernelspec": {
   "display_name": "Python 3",
   "language": "python",
   "name": "python3"
  },
  "language_info": {
   "codemirror_mode": {
    "name": "ipython",
    "version": 3
   },
   "file_extension": ".py",
   "mimetype": "text/x-python",
   "name": "python",
   "nbconvert_exporter": "python",
   "pygments_lexer": "ipython3",
   "version": "3.7.6"
  }
 },
 "nbformat": 4,
 "nbformat_minor": 2
}
